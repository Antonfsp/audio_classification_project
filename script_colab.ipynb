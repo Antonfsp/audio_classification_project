{
  "nbformat": 4,
  "nbformat_minor": 0,
  "metadata": {
    "colab": {
      "name": "Untitled4.ipynb",
      "provenance": [],
      "mount_file_id": "1tokA8F--Ntdclnj5KaxALGkHzOqbs0Vm",
      "authorship_tag": "ABX9TyNmEi1oPRQJU0gjksO+yGu1",
      "include_colab_link": true
    },
    "kernelspec": {
      "name": "python3",
      "display_name": "Python 3"
    },
    "language_info": {
      "name": "python"
    },
    "accelerator": "GPU"
  },
  "cells": [
    {
      "cell_type": "markdown",
      "metadata": {
        "id": "view-in-github",
        "colab_type": "text"
      },
      "source": [
        "<a href=\"https://colab.research.google.com/github/Antonfsp/audio_classification_project/blob/master/script_colab.ipynb\" target=\"_parent\"><img src=\"https://colab.research.google.com/assets/colab-badge.svg\" alt=\"Open In Colab\"/></a>"
      ]
    },
    {
      "cell_type": "code",
      "execution_count": null,
      "metadata": {
        "id": "wYDLUTZz5ipy"
      },
      "outputs": [],
      "source": [
        "!pip install ipython==5.5"
      ]
    },
    {
      "cell_type": "code",
      "source": [
        "!pip install fastaudio\n",
        "!pip install fastai==2.3.1"
      ],
      "metadata": {
        "id": "cDTedpYq5ne3"
      },
      "execution_count": null,
      "outputs": []
    },
    {
      "cell_type": "code",
      "source": [
        "!pip install torchaudio==0.8.1"
      ],
      "metadata": {
        "id": "E0asOwbzSLp6"
      },
      "execution_count": null,
      "outputs": []
    },
    {
      "cell_type": "code",
      "source": [
        "!tar -xzvf '/content/drive/MyDrive/Medley-solos-DB.tar.gz' -C '/content'"
      ],
      "metadata": {
        "id": "BO-vzrd_BLNK"
      },
      "execution_count": null,
      "outputs": []
    },
    {
      "cell_type": "code",
      "source": [
        "from fastai.vision.all import *\n",
        "from fastaudio.core.all import *\n",
        "from fastaudio.augment.all import *\n",
        "\n",
        "import shutil,os"
      ],
      "metadata": {
        "id": "fGj6xYAeGl4H"
      },
      "execution_count": null,
      "outputs": []
    },
    {
      "cell_type": "code",
      "source": [
        "path = Path()\n",
        "\n",
        "wavs = path.ls()\n",
        "wavs"
      ],
      "metadata": {
        "id": "TuxtOeT5KipB"
      },
      "execution_count": null,
      "outputs": []
    },
    {
      "cell_type": "code",
      "source": [
        "wavs.remove(Path('.config'))\n",
        "wavs.remove(Path('drive'))\n",
        "wavs.remove(Path('sample_data'))"
      ],
      "metadata": {
        "id": "qWghPRTFMRwZ"
      },
      "execution_count": null,
      "outputs": []
    },
    {
      "cell_type": "code",
      "source": [
        "# creating the directory \"data\" and its subdirectories\n",
        "os.mkdir(\"data\")\n",
        "for subset in [\"train\",\"validation\",\"test\"]:\n",
        "    os.makedirs(\"data/%s\" % subset)\n",
        "\n",
        "# Moving the files to the corresponding directories\n",
        "for file in wavs:\n",
        "    if \"test\" in str(file.name):\n",
        "        shutil.move(str(file),\"data/test\")\n",
        "    elif \"validation\" in str(file.name):\n",
        "        shutil.move(str(file),\"data/validation\")\n",
        "    else:\n",
        "        shutil.move(str(file),\"data/train\") "
      ],
      "metadata": {
        "id": "ZYmryVp9MvB9"
      },
      "execution_count": null,
      "outputs": []
    },
    {
      "cell_type": "code",
      "source": [
        "wavs = []\n",
        "for sub in Path(\"data\").ls():\n",
        "        wavs = wavs + Path(str(sub)).ls()\n",
        "wavs "
      ],
      "metadata": {
        "id": "H5O5XrwmNwlK"
      },
      "execution_count": null,
      "outputs": []
    },
    {
      "cell_type": "code",
      "source": [
        "for file in wavs:\n",
        "    if \"._\" in file.name:\n",
        "        file.unlink()"
      ],
      "metadata": {
        "id": "78dzpW_7N6JK"
      },
      "execution_count": null,
      "outputs": []
    },
    {
      "cell_type": "code",
      "source": [
        "wavs = []\n",
        "for sub in Path(\"data\").ls():\n",
        "        wavs = wavs + Path(str(sub)).ls()\n",
        "wavs "
      ],
      "metadata": {
        "id": "maT_IhPUO0td"
      },
      "execution_count": null,
      "outputs": []
    },
    {
      "cell_type": "code",
      "source": [
        "def get_instrument_tag(file):\n",
        "    instruments_ids = {0:'clarinet', 1:'distorted electric guitar', 2:'female singer', 3:'flute', 4:'piano',\n",
        "5:'tenor saxophone', 6:'trumpet', 7:'violin'}\n",
        "    return instruments_ids[int(file.name[-42])]"
      ],
      "metadata": {
        "id": "pisEO2drOerl"
      },
      "execution_count": null,
      "outputs": []
    },
    {
      "cell_type": "code",
      "source": [
        "for subset in [\"train\",\"validation\",\"test\"]:\n",
        "    instruments_ids = {0:'clarinet', 1:'distorted electric guitar', 2:'female singer', 3:'flute', 4:'piano',\n",
        "5:'tenor saxophone', 6:'trumpet', 7:'violin'}\n",
        "    for instrument in instruments_ids.values():\n",
        "        os.makedirs(\"data/%s/%s\" % (subset,instrument)) \n",
        "\n",
        "# Moving the files to the corresponding directories\n",
        "for subset in [\"train\",\"validation\",\"test\"]:\n",
        "    [shutil.move(str(file),\"data/%s/%s\" %(subset,get_instrument_tag(file))) for file in wavs if subset in str(file.name)]"
      ],
      "metadata": {
        "id": "fhX4_CGOOjzo"
      },
      "execution_count": null,
      "outputs": []
    },
    {
      "cell_type": "code",
      "source": [
        "wavs = []\n",
        "for sub in Path(\"data\").ls():\n",
        "    for instrument in Path(str(sub)).ls():\n",
        "        wavs = wavs + Path(str(instrument)).ls()\n",
        "wavs"
      ],
      "metadata": {
        "id": "z3o4J0oRTnrQ"
      },
      "execution_count": null,
      "outputs": []
    },
    {
      "cell_type": "code",
      "source": [
        "cfg = AudioConfig.BasicMelSpectrogram() # with default torchaudio parameters\n",
        "audio2melspec = AudioToSpec.from_cfg(cfg)"
      ],
      "metadata": {
        "id": "5MxRNKcGOv_z"
      },
      "execution_count": null,
      "outputs": []
    },
    {
      "cell_type": "code",
      "source": [
        "aud_digit = DataBlock(blocks=(AudioBlock, CategoryBlock),  \n",
        "                 get_items=get_audio_files, \n",
        "                 splitter=GrandparentSplitter(train_name='train', valid_name='validation'),\n",
        "                 item_tfms = audio2melspec,\n",
        "                 get_y=parent_label)"
      ],
      "metadata": {
        "id": "Rwhu63plPDSP"
      },
      "execution_count": null,
      "outputs": []
    },
    {
      "cell_type": "code",
      "source": [
        "path = Path(\"data\")\n",
        "dls = aud_digit.dataloaders(path, bs=8)"
      ],
      "metadata": {
        "id": "2oGFpXryPG90"
      },
      "execution_count": null,
      "outputs": []
    },
    {
      "cell_type": "code",
      "source": [
        "def alter_learner(learn, n_channels=1):\n",
        "  \"Adjust a `Learner`'s model to accept `1` channel\"\n",
        "  layer = learn.model[0][0]\n",
        "  layer.in_channels=n_channels\n",
        "  layer.weight = nn.Parameter(layer.weight[:,1,:,:].unsqueeze(1))\n",
        "  learn.model[0][0] = layer"
      ],
      "metadata": {
        "id": "iLvMdkLCT4d6"
      },
      "execution_count": null,
      "outputs": []
    },
    {
      "cell_type": "code",
      "source": [
        "learn = Learner(dls, xresnet18(), CrossEntropyLossFlat(), metrics=accuracy)"
      ],
      "metadata": {
        "id": "uJlUJ0UNT-vF"
      },
      "execution_count": null,
      "outputs": []
    },
    {
      "cell_type": "code",
      "source": [
        "n_c = dls.one_batch()[0].shape[1]; n_c"
      ],
      "metadata": {
        "id": "4rORfztKUCRQ"
      },
      "execution_count": null,
      "outputs": []
    },
    {
      "cell_type": "code",
      "source": [
        "alter_learner(learn, n_c)"
      ],
      "metadata": {
        "id": "AEC0gR5mUE6b"
      },
      "execution_count": null,
      "outputs": []
    },
    {
      "cell_type": "code",
      "source": [
        "learn.lr_find()"
      ],
      "metadata": {
        "id": "2kWPwwB0UIQg"
      },
      "execution_count": null,
      "outputs": []
    },
    {
      "cell_type": "code",
      "source": [
        "learn.fit_one_cycle(3, 1e-3)"
      ],
      "metadata": {
        "id": "2ngPEDtFULHW"
      },
      "execution_count": null,
      "outputs": []
    },
    {
      "cell_type": "code",
      "source": [
        "learn.unfreeze()\n",
        "learn.save"
      ],
      "metadata": {
        "id": "n390Ex0sUYmw"
      },
      "execution_count": null,
      "outputs": []
    },
    {
      "cell_type": "code",
      "source": [
        "learn.export(\"models/3_epochs.pkl\")"
      ],
      "metadata": {
        "id": "rGtYBKYEUZMb"
      },
      "execution_count": null,
      "outputs": []
    },
    {
      "cell_type": "code",
      "source": [
        "learn.lr_find()"
      ],
      "metadata": {
        "id": "sAvk8UVmUb5v"
      },
      "execution_count": null,
      "outputs": []
    },
    {
      "cell_type": "code",
      "source": [
        "path = Path()\n",
        "learn = load_learner(path/'models/3_epochs.pkl')"
      ],
      "metadata": {
        "id": "hAQmAswjb4jy"
      },
      "execution_count": 28,
      "outputs": []
    },
    {
      "cell_type": "code",
      "source": [
        "learn.fit_one_cycle(2, slice(1e-9,1e-8))"
      ],
      "metadata": {
        "colab": {
          "base_uri": "https://localhost:8080/",
          "height": 147
        },
        "id": "C7dHs_VVV_zw",
        "outputId": "2482e198-0af1-4a60-af8e-35641793fd08"
      },
      "execution_count": 30,
      "outputs": [
        {
          "output_type": "display_data",
          "data": {
            "text/html": [
              "<table border=\"1\" class=\"dataframe\">\n",
              "  <thead>\n",
              "    <tr style=\"text-align: left;\">\n",
              "      <th>epoch</th>\n",
              "      <th>train_loss</th>\n",
              "      <th>valid_loss</th>\n",
              "      <th>accuracy</th>\n",
              "      <th>time</th>\n",
              "    </tr>\n",
              "  </thead>\n",
              "  <tbody>\n",
              "    <tr>\n",
              "      <td>0</td>\n",
              "      <td>nan</td>\n",
              "      <td>None</td>\n",
              "      <td>None</td>\n",
              "      <td>00:00</td>\n",
              "    </tr>\n",
              "    <tr>\n",
              "      <td>1</td>\n",
              "      <td>nan</td>\n",
              "      <td>None</td>\n",
              "      <td>None</td>\n",
              "      <td>00:00</td>\n",
              "    </tr>\n",
              "  </tbody>\n",
              "</table>"
            ],
            "text/plain": [
              "<IPython.core.display.HTML object>"
            ]
          },
          "metadata": {}
        },
        {
          "output_type": "stream",
          "name": "stderr",
          "text": [
            "/usr/local/lib/python3.7/dist-packages/fastprogress/fastprogress.py:74: UserWarning: Your generator is empty.\n",
            "  warn(\"Your generator is empty.\")\n"
          ]
        }
      ]
    },
    {
      "cell_type": "code",
      "source": [
        "learn.predict(Path(\"data/test/clarinet/Medley-solos-DB_test-0_003d41a8-afad-501f-fbc3-d406dc694ceb.wav\"))"
      ],
      "metadata": {
        "colab": {
          "base_uri": "https://localhost:8080/",
          "height": 1000
        },
        "id": "tO-H-CuTWKRk",
        "outputId": "eb5488ad-f6e0-4990-bd1d-c762d74092d9"
      },
      "execution_count": 29,
      "outputs": [
        {
          "output_type": "display_data",
          "data": {
            "text/html": [
              ""
            ],
            "text/plain": [
              "<IPython.core.display.HTML object>"
            ]
          },
          "metadata": {}
        },
        {
          "output_type": "execute_result",
          "data": {
            "text/plain": [
              "('female singer',\n",
              " tensor(2),\n",
              " tensor([1.5588e-02, 8.5249e-04, 9.8091e-01, 2.4396e-06, 1.7830e-05, 6.2872e-06,\n",
              "         7.9937e-07, 2.6134e-03, 5.0985e-09, 6.2148e-09, 3.7546e-09, 1.4680e-09,\n",
              "         4.3123e-09, 5.7314e-09, 2.1689e-09, 6.6095e-09, 7.0677e-09, 8.3343e-09,\n",
              "         5.1566e-09, 1.1667e-08, 5.5544e-09, 1.2441e-08, 1.5108e-08, 5.6831e-09,\n",
              "         1.4059e-08, 1.4616e-08, 2.3192e-09, 8.2835e-09, 3.6407e-09, 1.8976e-09,\n",
              "         1.6681e-09, 4.9342e-09, 7.8736e-09, 2.5538e-09, 6.3085e-09, 7.0833e-09,\n",
              "         7.7605e-09, 1.5003e-08, 1.6866e-08, 2.4247e-09, 5.2133e-09, 4.1782e-09,\n",
              "         1.4305e-08, 3.7423e-09, 6.7318e-09, 3.2345e-09, 8.3790e-09, 1.0000e-08,\n",
              "         1.2932e-08, 5.3830e-09, 3.5004e-09, 2.3114e-09, 2.6001e-08, 3.3327e-09,\n",
              "         5.8662e-09, 5.5533e-09, 8.5497e-09, 4.5279e-09, 3.2377e-09, 9.2508e-09,\n",
              "         5.1873e-09, 7.3348e-09, 2.8271e-09, 5.7857e-09, 2.5167e-09, 1.7998e-08,\n",
              "         3.0075e-09, 3.5864e-09, 1.9115e-09, 3.2905e-09, 9.0254e-09, 8.5082e-09,\n",
              "         6.0755e-09, 1.0586e-08, 6.5279e-09, 6.5296e-09, 7.2480e-09, 2.8669e-09,\n",
              "         7.7350e-09, 3.9318e-09, 4.7836e-09, 1.0539e-08, 8.2656e-09, 6.1472e-09,\n",
              "         1.3232e-08, 7.4693e-09, 4.3858e-09, 1.0757e-08, 1.0044e-08, 2.6957e-09,\n",
              "         1.0483e-08, 5.8054e-09, 9.2418e-09, 1.5383e-08, 1.6482e-08, 1.4194e-08,\n",
              "         3.2781e-09, 3.3416e-09, 4.5108e-09, 6.0911e-09, 1.1480e-08, 2.9048e-09,\n",
              "         5.1934e-09, 6.7947e-09, 4.1222e-09, 3.8508e-09, 5.0204e-09, 7.4638e-09,\n",
              "         2.2131e-09, 5.0127e-09, 8.1161e-09, 1.2084e-08, 7.3542e-09, 7.7267e-09,\n",
              "         7.9763e-09, 4.4146e-09, 2.4754e-09, 9.3349e-09, 8.8867e-09, 8.5162e-09,\n",
              "         2.1624e-09, 6.5721e-09, 1.7362e-09, 4.7633e-09, 3.9773e-09, 2.5217e-09,\n",
              "         7.3113e-09, 9.7561e-09, 4.9026e-09, 3.1216e-09, 6.2325e-09, 1.8629e-08,\n",
              "         3.9596e-09, 3.1853e-09, 2.5864e-09, 1.3981e-08, 6.4972e-09, 7.1678e-09,\n",
              "         3.8851e-09, 3.3420e-09, 7.8726e-09, 3.2157e-09, 5.5109e-09, 1.2839e-08,\n",
              "         6.8902e-09, 5.7898e-09, 7.6174e-09, 3.2930e-09, 3.9703e-09, 8.1455e-09,\n",
              "         7.7968e-09, 1.2383e-08, 1.2458e-08, 5.1636e-09, 3.2114e-09, 1.6335e-08,\n",
              "         1.8967e-09, 1.1292e-08, 5.8454e-09, 3.0938e-09, 3.9697e-09, 2.4070e-09,\n",
              "         3.9374e-09, 4.4211e-09, 2.8920e-09, 1.0093e-08, 2.5334e-09, 1.0898e-08,\n",
              "         3.3244e-09, 3.5871e-09, 7.6791e-09, 6.5303e-09, 3.4875e-09, 4.9093e-09,\n",
              "         2.3050e-09, 1.1390e-08, 1.4926e-08, 8.2590e-09, 3.3211e-09, 4.5895e-09,\n",
              "         6.6279e-09, 1.0593e-08, 3.7999e-09, 6.5380e-09, 2.9197e-09, 4.4779e-09,\n",
              "         7.6923e-09, 3.8693e-09, 9.7723e-09, 6.1184e-09, 5.6794e-09, 1.1888e-08,\n",
              "         4.2739e-09, 1.6347e-08, 8.7747e-09, 3.5421e-09, 3.3961e-09, 2.9465e-09,\n",
              "         8.3176e-09, 2.8621e-09, 7.1789e-09, 9.5904e-09, 6.8834e-09, 9.3579e-09,\n",
              "         5.5879e-09, 5.2180e-09, 1.6113e-08, 3.8036e-09, 4.6199e-09, 6.3933e-09,\n",
              "         7.1500e-09, 7.5898e-09, 3.3803e-09, 2.8363e-09, 4.6960e-09, 3.3359e-09,\n",
              "         5.2707e-09, 9.8117e-09, 8.4311e-09, 5.2124e-09, 6.2284e-09, 5.5492e-09,\n",
              "         2.0062e-09, 5.2220e-09, 5.1030e-09, 1.4368e-08, 6.6587e-09, 5.3018e-09,\n",
              "         4.1035e-09, 5.3591e-09, 3.4407e-09, 5.5518e-09, 5.1636e-09, 4.3411e-09,\n",
              "         2.3137e-08, 1.2193e-08, 1.3295e-08, 9.9870e-09, 5.2070e-09, 7.1126e-09,\n",
              "         5.9450e-09, 1.3071e-08, 1.3687e-08, 4.2311e-09, 1.1112e-08, 4.2099e-09,\n",
              "         3.1995e-09, 6.7960e-09, 2.4932e-09, 1.0590e-08, 5.5011e-09, 2.6265e-09,\n",
              "         5.1662e-09, 1.1533e-08, 1.5661e-08, 4.2241e-09, 6.9823e-09, 4.6318e-09,\n",
              "         3.2017e-09, 1.1305e-08, 3.7530e-09, 1.0226e-08, 6.8498e-09, 4.6051e-09,\n",
              "         1.3647e-08, 3.0507e-09, 5.6707e-09, 4.0396e-09, 5.1735e-09, 3.7393e-09,\n",
              "         8.0870e-09, 7.7040e-09, 6.5316e-09, 4.5027e-09, 3.4105e-09, 6.2174e-09,\n",
              "         9.9429e-09, 2.9731e-09, 2.5107e-09, 8.0075e-09, 1.7757e-09, 8.7003e-09,\n",
              "         3.9275e-09, 4.0594e-09, 5.6667e-09, 9.1867e-09, 4.9415e-09, 2.4974e-09,\n",
              "         6.6549e-09, 3.6660e-09, 8.1812e-09, 5.0597e-09, 4.6958e-09, 3.8957e-09,\n",
              "         1.2830e-08, 5.0394e-09, 4.6652e-09, 5.1254e-09, 9.0115e-09, 3.4859e-09,\n",
              "         5.0992e-09, 9.9782e-09, 1.6412e-08, 3.5773e-09, 3.1378e-09, 8.4782e-09,\n",
              "         6.9655e-09, 5.5530e-09, 1.1632e-08, 3.2795e-09, 5.3540e-09, 4.8943e-09,\n",
              "         5.3922e-09, 1.2973e-08, 6.9144e-09, 8.8244e-09, 5.4055e-09, 4.2078e-09,\n",
              "         4.1232e-09, 4.7899e-09, 5.1067e-09, 2.3780e-09, 5.7783e-09, 7.4419e-09,\n",
              "         5.1561e-09, 5.3436e-09, 7.1770e-09, 8.9072e-09, 3.0898e-09, 5.3614e-09,\n",
              "         8.7168e-09, 4.1339e-09, 1.6069e-08, 4.8310e-09, 2.6932e-09, 2.9028e-09,\n",
              "         4.5117e-09, 3.1332e-09, 5.4470e-09, 4.4035e-09, 2.8258e-09, 5.8646e-09,\n",
              "         5.2072e-09, 4.1920e-09, 6.2528e-09, 6.4223e-09, 1.2187e-08, 6.6554e-09,\n",
              "         9.5061e-09, 3.9681e-09, 4.7486e-09, 3.8569e-09, 1.0137e-08, 2.3946e-09,\n",
              "         1.1952e-08, 3.6705e-09, 1.1633e-08, 4.9189e-09, 4.0304e-09, 3.3727e-09,\n",
              "         6.7173e-09, 6.2257e-09, 4.6523e-09, 3.2382e-09, 3.1500e-09, 4.9985e-09,\n",
              "         5.8344e-09, 4.5726e-09, 2.4342e-09, 2.2990e-09, 8.6287e-09, 1.6041e-08,\n",
              "         1.1897e-08, 5.2688e-09, 8.5424e-09, 8.8834e-09, 3.0398e-09, 1.7543e-09,\n",
              "         3.8193e-09, 4.7359e-09, 9.3160e-09, 1.5331e-08, 1.2480e-08, 1.3887e-08,\n",
              "         7.1934e-09, 5.1272e-09, 1.2927e-08, 6.5355e-09, 7.4357e-09, 9.1109e-09,\n",
              "         8.0790e-09, 6.9794e-09, 1.2793e-08, 2.4397e-09, 6.3333e-09, 5.7871e-09,\n",
              "         3.9077e-09, 3.8071e-09, 2.2766e-09, 7.7922e-09, 4.9922e-09, 2.1007e-09,\n",
              "         2.1161e-09, 7.5328e-09, 1.0682e-08, 5.9397e-09, 3.9711e-09, 5.7324e-09,\n",
              "         5.7039e-09, 7.2321e-09, 3.5537e-09, 4.5622e-09, 1.2348e-08, 7.9403e-09,\n",
              "         7.7263e-09, 8.4336e-09, 6.8673e-09, 4.5530e-09, 1.1565e-08, 7.0108e-09,\n",
              "         5.3042e-09, 6.0809e-09, 7.1686e-09, 3.7322e-09, 4.4708e-09, 7.2494e-09,\n",
              "         1.3256e-08, 6.3049e-09, 3.2997e-09, 1.2675e-08, 3.0725e-09, 7.9823e-09,\n",
              "         5.2725e-09, 2.9660e-09, 1.4883e-08, 7.6227e-09, 6.0350e-09, 5.7093e-09,\n",
              "         2.7050e-08, 5.2149e-09, 3.0606e-09, 1.1067e-08, 9.4250e-09, 7.3158e-09,\n",
              "         7.8326e-09, 2.7487e-09, 2.8207e-09, 6.8389e-09, 6.0434e-09, 5.9371e-09,\n",
              "         5.6643e-09, 7.3951e-09, 2.9567e-09, 5.9491e-09, 2.5852e-08, 1.5360e-08,\n",
              "         7.0478e-09, 7.7741e-09, 1.7633e-09, 9.6501e-09, 5.1004e-09, 5.2789e-09,\n",
              "         8.6218e-09, 2.7080e-09, 4.4930e-09, 3.2140e-09, 3.8891e-09, 2.4916e-09,\n",
              "         6.2640e-09, 4.1030e-09, 6.8538e-09, 9.4831e-09, 8.6375e-09, 5.3049e-09,\n",
              "         6.1897e-09, 7.5842e-09, 1.9325e-08, 3.6934e-09, 1.1301e-08, 2.8334e-09,\n",
              "         5.9919e-09, 3.0824e-09, 2.7333e-09, 8.2050e-09, 5.1524e-09, 3.1113e-09,\n",
              "         3.4926e-09, 2.8914e-09, 7.6221e-09, 1.1452e-08, 4.7443e-09, 8.2028e-09,\n",
              "         2.3218e-09, 6.8296e-09, 8.1363e-09, 9.2322e-09, 7.5350e-09, 1.2275e-08,\n",
              "         7.3975e-09, 5.7686e-09, 2.3837e-09, 4.1954e-09, 1.2662e-08, 5.7383e-09,\n",
              "         3.9735e-09, 5.1573e-09, 5.3492e-09, 1.0375e-08, 3.1788e-09, 4.7640e-09,\n",
              "         5.3697e-08, 2.9763e-09, 6.3008e-09, 1.0215e-08, 7.2949e-09, 2.4127e-08,\n",
              "         2.1588e-08, 3.5896e-09, 4.7744e-09, 5.4069e-09, 5.5972e-09, 2.2766e-09,\n",
              "         2.9918e-09, 4.0722e-09, 5.1329e-09, 7.8261e-09, 1.7667e-08, 4.9754e-09,\n",
              "         1.5117e-08, 6.5056e-09, 2.3791e-09, 4.9858e-09, 4.8139e-09, 5.9767e-09,\n",
              "         1.0055e-08, 2.9553e-09, 4.8634e-09, 6.0543e-09, 5.1826e-09, 5.6900e-09,\n",
              "         2.8348e-09, 1.5344e-08, 4.5877e-09, 3.3196e-09, 3.4898e-09, 8.1311e-09,\n",
              "         4.4042e-09, 1.4215e-08, 4.7923e-09, 2.2300e-09, 2.7412e-09, 8.4596e-09,\n",
              "         6.0281e-09, 9.0895e-09, 1.0397e-08, 2.4191e-09, 6.8357e-09, 9.8885e-09,\n",
              "         1.1170e-08, 9.5673e-09, 5.3659e-09, 4.1244e-09, 5.2034e-09, 5.2158e-09,\n",
              "         4.3006e-09, 5.6502e-09, 2.9518e-09, 2.6396e-09, 6.6808e-09, 4.8978e-09,\n",
              "         1.9745e-08, 7.0883e-09, 2.7060e-09, 8.4841e-09, 3.4071e-09, 5.3459e-09,\n",
              "         1.0548e-08, 7.3072e-09, 1.5559e-08, 9.1058e-09, 2.7126e-09, 3.0394e-09,\n",
              "         2.5959e-09, 1.3160e-08, 4.0519e-09, 4.8270e-09, 1.0684e-08, 2.9082e-09,\n",
              "         7.4761e-09, 2.5683e-09, 1.1931e-08, 1.1201e-08, 6.8816e-09, 7.1934e-09,\n",
              "         5.3014e-09, 1.2731e-08, 4.4980e-09, 6.8996e-09, 8.4826e-09, 8.5941e-09,\n",
              "         4.2792e-09, 7.2566e-09, 9.7777e-09, 2.2463e-09, 5.8571e-09, 2.3087e-08,\n",
              "         5.9429e-09, 6.9979e-09, 6.1355e-09, 2.8794e-09, 7.7226e-09, 3.9164e-09,\n",
              "         6.6753e-09, 3.6201e-09, 5.5215e-09, 8.0937e-09, 1.0289e-08, 8.1708e-09,\n",
              "         3.3748e-09, 7.4952e-09, 1.4858e-08, 3.1498e-09, 5.9988e-09, 8.6243e-09,\n",
              "         2.8965e-09, 4.8954e-09, 2.2275e-09, 1.8327e-08, 2.8364e-09, 1.5456e-08,\n",
              "         7.7807e-09, 7.8868e-09, 2.0187e-09, 6.0699e-09, 3.6859e-09, 1.1491e-08,\n",
              "         3.1982e-09, 4.3504e-09, 3.7335e-09, 6.0562e-09, 5.4270e-09, 6.0895e-09,\n",
              "         9.8097e-09, 4.8900e-09, 5.8140e-09, 3.0311e-09, 5.8407e-09, 1.6333e-08,\n",
              "         1.6321e-08, 7.0004e-09, 6.4172e-09, 4.5750e-09, 1.0302e-08, 4.6023e-09,\n",
              "         3.1698e-09, 1.1208e-08, 8.5329e-09, 7.8010e-09, 8.8431e-09, 9.9193e-09,\n",
              "         8.1431e-09, 3.0672e-09, 4.7006e-09, 9.5412e-09, 6.7254e-09, 9.0979e-09,\n",
              "         2.3054e-09, 4.1116e-09, 4.3853e-09, 6.2276e-09, 6.7713e-09, 7.9619e-09,\n",
              "         5.2597e-09, 1.3372e-09, 4.8380e-09, 5.1496e-09, 4.2237e-09, 1.5725e-08,\n",
              "         8.1504e-09, 1.8598e-09, 2.5779e-09, 4.9265e-09, 4.5614e-09, 8.4341e-09,\n",
              "         7.4587e-09, 3.2213e-09, 3.4988e-09, 9.2293e-09, 4.5682e-09, 8.0605e-09,\n",
              "         6.5553e-09, 6.3764e-09, 4.7524e-09, 6.1432e-09, 1.7505e-09, 1.0956e-08,\n",
              "         7.9363e-09, 3.8687e-09, 7.2606e-09, 9.2009e-09, 2.6129e-09, 5.3717e-09,\n",
              "         1.1642e-08, 9.9836e-09, 4.4514e-09, 4.6953e-09, 6.6184e-09, 3.7513e-09,\n",
              "         1.8854e-09, 2.8428e-09, 5.4539e-09, 7.0663e-09, 2.4617e-09, 1.1269e-08,\n",
              "         7.7106e-09, 6.2221e-09, 7.7519e-09, 9.0126e-09, 1.4205e-08, 1.2705e-08,\n",
              "         7.0174e-09, 5.1031e-09, 1.1315e-08, 1.6699e-09, 3.1161e-09, 5.2593e-09,\n",
              "         5.0051e-09, 2.4887e-09, 6.2071e-09, 1.7591e-09, 1.2412e-08, 4.2074e-09,\n",
              "         8.8458e-09, 5.2072e-09, 5.1842e-09, 5.6407e-09, 2.7678e-08, 5.8414e-09,\n",
              "         7.8556e-09, 3.0895e-09, 5.7400e-09, 9.6492e-09, 9.2040e-09, 2.3402e-09,\n",
              "         9.0071e-09, 8.6543e-09, 3.2051e-09, 2.9544e-09, 7.4203e-09, 1.0421e-08,\n",
              "         1.0413e-08, 4.5442e-09, 1.1142e-08, 9.7142e-09, 5.7615e-09, 5.3905e-09,\n",
              "         6.2124e-09, 9.0953e-09, 1.5750e-08, 3.2473e-09, 2.3252e-09, 9.4031e-09,\n",
              "         2.9086e-09, 9.3927e-09, 8.9696e-09, 7.3925e-09, 7.9939e-09, 8.0636e-09,\n",
              "         4.1146e-09, 5.8410e-09, 1.1394e-08, 9.0464e-09, 2.1672e-08, 4.0684e-09,\n",
              "         3.3336e-09, 1.4466e-08, 5.8191e-09, 4.0691e-09, 1.0707e-08, 9.6302e-09,\n",
              "         6.9233e-09, 1.5738e-08, 8.5938e-09, 2.9391e-09, 3.8149e-09, 3.7375e-08,\n",
              "         8.4782e-09, 7.5852e-09, 6.1763e-09, 1.9362e-08, 4.8422e-09, 5.9489e-09,\n",
              "         9.0231e-09, 3.8147e-09, 2.4463e-09, 2.0233e-08, 9.8234e-09, 1.0268e-08,\n",
              "         2.8499e-09, 3.8883e-09, 2.9231e-09, 5.8685e-09, 5.6604e-09, 9.1426e-09,\n",
              "         6.5794e-09, 3.5991e-09, 5.6655e-09, 8.3766e-09, 9.6600e-09, 2.4065e-09,\n",
              "         1.1863e-08, 2.5556e-09, 9.2317e-09, 8.6064e-09, 8.3612e-09, 4.8621e-09,\n",
              "         3.4833e-09, 6.7542e-09, 2.3656e-08, 2.6061e-09, 9.8160e-09, 8.6626e-09,\n",
              "         1.0189e-08, 7.1225e-09, 3.6058e-09, 1.1706e-08, 2.1878e-09, 3.6613e-09,\n",
              "         1.2368e-08, 9.3771e-09, 7.3613e-09, 4.6130e-09, 1.4191e-08, 9.9456e-09,\n",
              "         4.1610e-09, 3.2870e-09, 2.1238e-09, 4.5533e-09, 7.7658e-09, 1.0375e-08,\n",
              "         1.0265e-08, 5.1376e-09, 1.6207e-08, 3.1326e-09, 5.2378e-09, 9.2979e-09,\n",
              "         2.8327e-09, 9.0543e-09, 7.7290e-09, 7.7153e-09, 6.4860e-09, 4.3352e-09,\n",
              "         1.2727e-08, 7.9087e-09, 4.3314e-09, 7.3233e-09, 2.2511e-09, 4.4513e-09,\n",
              "         1.9531e-09, 9.5905e-09, 6.1443e-09, 3.4739e-09, 4.5806e-09, 6.2171e-09,\n",
              "         7.7150e-09, 3.8396e-09, 6.7707e-09, 5.8898e-09, 1.2894e-08, 6.2929e-09,\n",
              "         7.0845e-09, 5.2457e-09, 9.3894e-09, 2.7406e-08, 5.3185e-09, 8.5165e-09,\n",
              "         2.6077e-09, 7.0503e-09, 1.9295e-09, 8.0330e-09, 3.0534e-09, 7.4038e-09,\n",
              "         5.9399e-09, 4.5025e-09, 3.2084e-09, 5.2591e-09, 4.4805e-09, 7.6030e-09,\n",
              "         8.2038e-09, 4.3085e-09, 1.3074e-08, 7.2271e-09, 7.9043e-09, 4.1780e-09,\n",
              "         1.1606e-08, 1.4149e-08, 1.2247e-08, 8.6207e-09, 3.6285e-09, 5.3995e-09,\n",
              "         1.4364e-08, 1.2780e-08, 3.1562e-09, 4.9139e-09, 4.1439e-09, 3.0387e-09,\n",
              "         1.0231e-08, 2.6287e-09, 7.4150e-09, 5.1194e-09, 8.6696e-09, 5.3029e-09,\n",
              "         3.8039e-09, 4.7970e-09, 8.1030e-09, 8.6670e-09, 4.4933e-09, 9.9804e-09,\n",
              "         4.9095e-09, 4.1848e-09, 5.9143e-09, 1.0270e-08, 8.0714e-09, 5.0332e-09,\n",
              "         3.4525e-09, 4.4467e-09, 2.3292e-09, 3.0080e-09, 3.3354e-09, 1.1407e-08,\n",
              "         1.9902e-08, 3.8572e-09, 2.1549e-08, 7.7907e-09, 7.9795e-09, 3.0625e-09,\n",
              "         3.3882e-09, 9.9545e-09, 4.3732e-09, 3.5995e-09, 7.2118e-09, 6.0578e-09,\n",
              "         1.7745e-08, 7.1024e-09, 5.6826e-09, 6.6152e-09, 1.8141e-09, 1.9326e-09,\n",
              "         6.8264e-09, 2.5415e-09, 1.0444e-09, 7.7909e-09, 4.0927e-09, 9.8460e-09,\n",
              "         3.2916e-09, 1.1369e-08, 1.0789e-08, 4.5282e-09, 8.7570e-09, 9.2355e-09,\n",
              "         4.7309e-09, 8.2332e-09, 1.4500e-08, 3.8957e-09, 7.5848e-09, 4.8879e-09,\n",
              "         1.0372e-08, 1.0781e-09, 6.9509e-09, 9.8084e-09, 3.5375e-09, 6.0926e-09,\n",
              "         4.2346e-09, 4.1480e-09, 8.6406e-09, 1.1759e-08, 5.3188e-09, 8.4681e-09,\n",
              "         5.7923e-09, 4.7384e-09, 9.9116e-09, 3.7382e-09, 5.8257e-09, 9.6085e-09,\n",
              "         3.4340e-08, 1.7391e-09, 2.6377e-09, 4.8981e-09, 2.3310e-09, 8.3735e-09,\n",
              "         8.0514e-09, 3.3732e-09, 3.1699e-09, 3.9240e-09, 1.1814e-08, 8.8751e-09,\n",
              "         8.7679e-09, 3.2839e-09, 6.9037e-09, 6.2622e-09]))"
            ]
          },
          "metadata": {},
          "execution_count": 29
        }
      ]
    },
    {
      "cell_type": "code",
      "source": [
        ""
      ],
      "metadata": {
        "id": "3WmG1SZBe8vv"
      },
      "execution_count": null,
      "outputs": []
    }
  ]
}